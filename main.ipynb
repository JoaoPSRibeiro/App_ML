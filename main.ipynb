{
 "cells": [
  {
   "cell_type": "code",
   "execution_count": null,
   "metadata": {},
   "outputs": [],
   "source": [
    "\"\"\"\n",
    "Criar interface gráfica\n",
    "    criar label com nome dp campo\n",
    "    criar input de pesquisa\n",
    "    criar botão de enciar\n",
    "    crião botão de limpar\n",
    "    criar label explicando que o arquivo foi salvo na área de trabalho\n",
    "\"\"\"\n",
    "import customtkinter as ctk # Importando o gerador de interface gráfica, customtkinter\n",
    "\n",
    "janela = ctk.CTk() #CTk, não esquecer deste detalhe. Aqui, estamos abrindo a juanela\n",
    "# Configurando janela principal\n",
    "janela.geometry(\"700x500\")\n",
    "\n",
    "\n",
    "janela.mainloop() #Este método, mantém a janela aberta\n"
   ]
  },
  {
   "cell_type": "code",
   "execution_count": null,
   "metadata": {},
   "outputs": [],
   "source": [
    "\"\"\"\n",
    "acessar mercado livre\n",
    "preencher pesquisa com a info passada pelo usuário\n",
    "realizar pesquisa com mais de uma página de resultados\n",
    "salvar os resultados em csv e em excel\n",
    "\n",
    "\"\"\""
   ]
  }
 ],
 "metadata": {
  "kernelspec": {
   "display_name": "Python 3",
   "language": "python",
   "name": "python3"
  },
  "language_info": {
   "codemirror_mode": {
    "name": "ipython",
    "version": 3
   },
   "file_extension": ".py",
   "mimetype": "text/x-python",
   "name": "python",
   "nbconvert_exporter": "python",
   "pygments_lexer": "ipython3",
   "version": "3.11.4"
  }
 },
 "nbformat": 4,
 "nbformat_minor": 2
}
